{
 "cells": [
  {
   "attachments": {},
   "cell_type": "markdown",
   "metadata": {},
   "source": [
    "# Extracting Facial Expressions and Hand gestures\n",
    "\n",
    "Before we can do any co-occurrence stuff, we need to first extract features. In this case facial expressions and hand gestures. Then we will need to store these in some data structure. OpenFace already produces a csv of "
   ]
  },
  {
   "cell_type": "code",
   "execution_count": null,
   "metadata": {},
   "outputs": [
    {
     "ename": "",
     "evalue": "",
     "output_type": "error",
     "traceback": [
      "\u001b[1;31mFailed to start the Kernel. \n",
      "\u001b[1;31mActivating extension 'ms-python.python' failed: TelemetrySender.sendEventData must be a function. \n",
      "\u001b[1;31mView Jupyter <a href='command:jupyter.viewOutput'>log</a> for further details."
     ]
    }
   ],
   "source": [
    "import numpy as np\n",
    "import cv2\n"
   ]
  },
  {
   "cell_type": "code",
   "execution_count": null,
   "metadata": {},
   "outputs": [
    {
     "ename": "",
     "evalue": "",
     "output_type": "error",
     "traceback": [
      "\u001b[1;31mFailed to start the Kernel. \n",
      "\u001b[1;31mActivating extension 'ms-python.python' failed: TelemetrySender.sendEventData must be a function. \n",
      "\u001b[1;31mView Jupyter <a href='command:jupyter.viewOutput'>log</a> for further details."
     ]
    }
   ],
   "source": [
    "\n",
    "# Open the video\n",
    "cap = cv2.VideoCapture('/home/vero/coding/masters/mastersProject/src/featureExtraction/data/participant_cropped_video.mp4')\n",
    "\n",
    "# Initialize frame counter\n",
    "cnt = 0\n",
    "\n",
    "# Some characteristics from the original video\n",
    "w_frame, h_frame = int(cap.get(cv2.CAP_PROP_FRAME_WIDTH)), int(cap.get(cv2.CAP_PROP_FRAME_HEIGHT))\n",
    "fps, frames = cap.get(cv2.CAP_PROP_FPS), cap.get(cv2.CAP_PROP_FRAME_COUNT)\n",
    "\n"
   ]
  },
  {
   "cell_type": "code",
   "execution_count": null,
   "metadata": {},
   "outputs": [
    {
     "ename": "",
     "evalue": "",
     "output_type": "error",
     "traceback": [
      "\u001b[1;31mFailed to start the Kernel. \n",
      "\u001b[1;31mActivating extension 'ms-python.python' failed: TelemetrySender.sendEventData must be a function. \n",
      "\u001b[1;31mView Jupyter <a href='command:jupyter.viewOutput'>log</a> for further details."
     ]
    }
   ],
   "source": [
    "# Load the cascade  \n",
    "face_cascade = cv2.CascadeClassifier('haarcascade_frontalface_default.xml')  \n"
   ]
  },
  {
   "cell_type": "code",
   "execution_count": null,
   "metadata": {},
   "outputs": [
    {
     "ename": "",
     "evalue": "",
     "output_type": "error",
     "traceback": [
      "\u001b[1;31mFailed to start the Kernel. \n",
      "\u001b[1;31mActivating extension 'ms-python.python' failed: TelemetrySender.sendEventData must be a function. \n",
      "\u001b[1;31mView Jupyter <a href='command:jupyter.viewOutput'>log</a> for further details."
     ]
    }
   ],
   "source": [
    "image = cv2.imread(\"/home/vero/Pictures/Screenshot from 2020-10-08 14-13-17.png\")\n",
    "print(type(image))"
   ]
  },
  {
   "cell_type": "code",
   "execution_count": null,
   "metadata": {},
   "outputs": [
    {
     "ename": "",
     "evalue": "",
     "output_type": "error",
     "traceback": [
      "\u001b[1;31mFailed to start the Kernel. \n",
      "\u001b[1;31mActivating extension 'ms-python.python' failed: TelemetrySender.sendEventData must be a function. \n",
      "\u001b[1;31mView Jupyter <a href='command:jupyter.viewOutput'>log</a> for further details."
     ]
    }
   ],
   "source": [
    "np.load(\"/home/vero/Dropbox/wellbeingdataset/Weizhe - features/share/participant_video_13.wav.npy\")"
   ]
  },
  {
   "cell_type": "code",
   "execution_count": null,
   "metadata": {},
   "outputs": [
    {
     "ename": "",
     "evalue": "",
     "output_type": "error",
     "traceback": [
      "\u001b[1;31mFailed to start the Kernel. \n",
      "\u001b[1;31mActivating extension 'ms-python.python' failed: TelemetrySender.sendEventData must be a function. \n",
      "\u001b[1;31mView Jupyter <a href='command:jupyter.viewOutput'>log</a> for further details."
     ]
    }
   ],
   "source": [
    "# Here you can define your croping values\n",
    "#x,y,h,w = 0,0,100,100\n",
    "\n",
    "first_frame = cap.read()\n",
    "print(type(first_frame))\n",
    "# Convert to grayscale  \n",
    "gray = cv2.cvtColor(np.array(first_frame), cv2.COLOR_BGR2GRAY)  \n",
    "  \n",
    "# Detect the faces  \n",
    "faces = face_cascade.detectMultiScale(gray, 1.1, 4)  \n"
   ]
  },
  {
   "cell_type": "code",
   "execution_count": null,
   "metadata": {},
   "outputs": [
    {
     "ename": "",
     "evalue": "",
     "output_type": "error",
     "traceback": [
      "\u001b[1;31mFailed to start the Kernel. \n",
      "\u001b[1;31mActivating extension 'ms-python.python' failed: TelemetrySender.sendEventData must be a function. \n",
      "\u001b[1;31mView Jupyter <a href='command:jupyter.viewOutput'>log</a> for further details."
     ]
    }
   ],
   "source": [
    "# output\n",
    "fourcc = cv2.VideoWriter_fourcc(*'XVID')\n",
    "out = cv2.VideoWriter('result.avi', fourcc, fps, (w, h))\n",
    "\n",
    "\n"
   ]
  },
  {
   "cell_type": "code",
   "execution_count": null,
   "metadata": {},
   "outputs": [
    {
     "ename": "",
     "evalue": "",
     "output_type": "error",
     "traceback": [
      "\u001b[1;31mFailed to start the Kernel. \n",
      "\u001b[1;31mActivating extension 'ms-python.python' failed: TelemetrySender.sendEventData must be a function. \n",
      "\u001b[1;31mView Jupyter <a href='command:jupyter.viewOutput'>log</a> for further details."
     ]
    }
   ],
   "source": [
    "# Now we start\n",
    "while(cap.isOpened()):\n",
    "    ret, frame = cap.read()\n",
    "\n",
    "    cnt += 1 # Counting frames\n",
    "\n",
    "    # Convert to grayscale  \n",
    "    gray = cv2.cvtColor(frame, cv2.COLOR_BGR2GRAY)  \n",
    "  \n",
    "    # Detect the faces  \n",
    "    faces = face_cascade.detectMultiScale(gray, 1.1, 4)  \n",
    "\n",
    "    # Avoid problems when video finish\n",
    "    if ret==True:\n",
    "        # Croping the frame\n",
    "        crop_frame = frame[y:y+h, x:x+w]\n",
    "\n",
    "        # Percentage\n",
    "        xx = cnt *100/frames\n",
    "        print(int(xx),'%')\n",
    "\n",
    "        # Saving from the desired frames\n",
    "        #if 15 <= cnt <= 90:\n",
    "        #    out.write(crop_frame)\n",
    "\n",
    "        # I see the answer now. Here you save all the video\n",
    "        out.write(crop_frame)\n",
    "\n",
    "        # Just to see the video in real time          \n",
    "        cv2.imshow('frame',frame)\n",
    "        cv2.imshow('croped',crop_frame)\n",
    "\n",
    "        if cv2.waitKey(1) & 0xFF == ord('q'):\n",
    "            break\n",
    "    else:\n",
    "        break\n",
    "\n",
    "\n",
    "cap.release()\n",
    "out.release()\n",
    "cv2.destroyAllWindows()"
   ]
  },
  {
   "cell_type": "code",
   "execution_count": null,
   "metadata": {},
   "outputs": [
    {
     "ename": "",
     "evalue": "",
     "output_type": "error",
     "traceback": [
      "\u001b[1;31mFailed to start the Kernel. \n",
      "\u001b[1;31mActivating extension 'ms-python.python' failed: TelemetrySender.sendEventData must be a function. \n",
      "\u001b[1;31mView Jupyter <a href='command:jupyter.viewOutput'>log</a> for further details."
     ]
    }
   ],
   "source": []
  }
 ],
 "metadata": {
  "kernelspec": {
   "display_name": "base",
   "language": "python",
   "name": "python3"
  },
  "language_info": {
   "codemirror_mode": {
    "name": "ipython",
    "version": 3
   },
   "file_extension": ".py",
   "mimetype": "text/x-python",
   "name": "python",
   "nbconvert_exporter": "python",
   "pygments_lexer": "ipython3",
   "version": "3.8.3"
  },
  "orig_nbformat": 4,
  "vscode": {
   "interpreter": {
    "hash": "964317d59d914bc9f86439e4a5774a94c5dcae7d11df814a92bc027783cf437b"
   }
  }
 },
 "nbformat": 4,
 "nbformat_minor": 2
}
