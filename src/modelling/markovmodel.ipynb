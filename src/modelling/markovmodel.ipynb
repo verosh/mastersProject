{
 "cells": [
  {
   "attachments": {},
   "cell_type": "markdown",
   "metadata": {},
   "source": [
    "# Moving onto temporal modelling.\n",
    "\n",
    "**The way I want to do this is to make 2 models: One first-order Markov model for modelling the temporal relationships and then the DBN that will model the co-occurrences.**\n",
    "\n",
    "In order to make the Markov model, we need the following steps:\n",
    "1. define variables\n",
    "2. discretize the variables (ie make 0/1 vars)\n",
    "3. Estimate transition probabilities\n",
    "4. Construct transition matrix\n",
    "5. Combine transition matrices\n",
    "6. Use the model for prediction\n",
    "\n",
    "Of these, we already have 1. and 2., so we can move onto 3."
   ]
  },
  {
   "attachments": {},
   "cell_type": "markdown",
   "metadata": {},
   "source": [
    "How to estimate **transition probabilities**: \n",
    "Count the number of transitions between states in dataset and divide by total number of transitions.\n",
    "\n"
   ]
  },
  {
   "cell_type": "code",
   "execution_count": 61,
   "metadata": {},
   "outputs": [],
   "source": [
    "import os\n",
    "import pandas as pd\n",
    "import pprint \n",
    "import pickle\n",
    "import numpy as np\n",
    "pp = pprint.PrettyPrinter(indent=4)\n",
    "from sklearn.model_selection import train_test_split"
   ]
  },
  {
   "cell_type": "code",
   "execution_count": 62,
   "metadata": {},
   "outputs": [],
   "source": [
    "# load data\n",
    "\n",
    "with open(\"facetouch_dataframes.pickle\", 'rb') as f:\n",
    "    ft_dataframes = pickle.load(f)"
   ]
  },
  {
   "cell_type": "code",
   "execution_count": 63,
   "metadata": {},
   "outputs": [
    {
     "name": "stdout",
     "output_type": "stream",
     "text": [
      "Index(['Unnamed: 0', 'participant', 'frame', 'pose', 'hand_left', 'hand_right',\n",
      "       'leftHandTouching', 'rightHandTouching', ' face_id', ' timestamp',\n",
      "       ' confidence', ' success', ' AU01_r', ' AU02_r', ' AU04_r', ' AU05_r',\n",
      "       ' AU06_r', ' AU07_r', ' AU09_r', ' AU10_r', ' AU12_r', ' AU14_r',\n",
      "       ' AU15_r', ' AU17_r', ' AU20_r', ' AU23_r', ' AU25_r', ' AU26_r',\n",
      "       ' AU45_r', ' AU01_c', ' AU02_c', ' AU04_c', ' AU05_c', ' AU06_c',\n",
      "       ' AU07_c', ' AU09_c', ' AU10_c', ' AU12_c', ' AU14_c', ' AU15_c',\n",
      "       ' AU17_c', ' AU20_c', ' AU23_c', ' AU25_c', ' AU26_c', ' AU28_c',\n",
      "       ' AU45_c', 'GAD Score', 'PHQ Score', 'combinedRightHand',\n",
      "       'combinedLeftHand'],\n",
      "      dtype='object')\n"
     ]
    }
   ],
   "source": [
    "print(ft_dataframes['/home/roni/coding/mastersProject/src/csvOut/p_100/recording_3'].columns)"
   ]
  },
  {
   "cell_type": "code",
   "execution_count": 64,
   "metadata": {},
   "outputs": [
    {
     "name": "stdout",
     "output_type": "stream",
     "text": [
      "50\n"
     ]
    }
   ],
   "source": [
    "print(len(ft_dataframes))"
   ]
  },
  {
   "attachments": {},
   "cell_type": "markdown",
   "metadata": {},
   "source": [
    "From the results of the correlation calculations we want to model **AU17, AU7 and AU14 for the left hand** and **AU14, AU12 and AU20 for the right hand** as those are the largest correlations.\n",
    "\n",
    "Out of interest this correlates to the chin raiser, lid tightener, dimpler for left hand and dimpler, lip corner puller and lip stretcher for the right hand."
   ]
  },
  {
   "cell_type": "code",
   "execution_count": 98,
   "metadata": {},
   "outputs": [],
   "source": [
    "transition_cols = [' AU17_c', ' AU07_c',' AU14_c' , ' AU12_c',' AU20_c' , 'leftHandTouching', 'rightHandTouching' ]\n",
    "transition_probs = { key:[0,0,0,0,0,0] for key in transition_cols } # [ 1 to 0, total 1, 0 to 1, total 0, 0 to 0 , 1 to 1]"
   ]
  },
  {
   "attachments": {},
   "cell_type": "markdown",
   "metadata": {},
   "source": [
    "Need to compute the probability P(t = 0| t-1 = 1) for each of these. We also need to split into train/test/val."
   ]
  },
  {
   "cell_type": "code",
   "execution_count": 99,
   "metadata": {},
   "outputs": [],
   "source": [
    "video_keys = list(ft_dataframes.keys())\n",
    "\n",
    "# Split the keys into training, validation, and testing sets\n",
    "train_keys, test_keys = train_test_split(video_keys, test_size=0.1, random_state=42)\n",
    "train_keys, val_keys = train_test_split(train_keys, test_size=0.111, random_state=42)\n",
    "\n",
    "# Create the training, validation, and testing sets as dictionaries\n",
    "train_data = {key: ft_dataframes[key] for key in train_keys}\n",
    "val_data = {key: ft_dataframes[key] for key in val_keys}\n",
    "test_data = {key: ft_dataframes[key] for key in test_keys}"
   ]
  },
  {
   "cell_type": "code",
   "execution_count": 100,
   "metadata": {},
   "outputs": [
    {
     "name": "stdout",
     "output_type": "stream",
     "text": [
      "   column1\n",
      "0      NaN\n",
      "1      0.0\n",
      "2      1.0\n",
      "3      0.0\n",
      "4     -1.0\n"
     ]
    }
   ],
   "source": [
    "#ex = train_data['/home/roni/coding/mastersProject/src/csvOut/p_100/recording_3'][['leftHandTouching', 'rightHandTouching']]\n",
    "#ex.to_csv('lefthanddiffsp100.csv')\n",
    "\n",
    "df = pd.DataFrame({'column1': [False,False,True,True,False]})\n",
    "d = df.astype(int).diff()\n",
    "print(d)"
   ]
  },
  {
   "cell_type": "code",
   "execution_count": 101,
   "metadata": {},
   "outputs": [],
   "source": [
    "for df in train_data:\n",
    "    for i in transition_cols:\n",
    "        #if( True not in train_data[df][i].unique() ):\n",
    "            #continue\n",
    "        diffs = train_data[df][i].astype(int).diff()\n",
    "        positive_transitions = (diffs == 1).sum() # this is 0 to 1\n",
    "        negative_transitions = (diffs == -1).sum() # this is 1 to 0\n",
    "        zero_to_zero = ((train_data[df][i] == 0) & (diffs == 0)).sum()\n",
    "        one_to_one = ((train_data[df][i] == 1) & (diffs == 0)).sum()\n",
    "        zeroes = (train_data[df][i] == 0).sum()\n",
    "        ones = (train_data[df][i] == 1).sum()\n",
    "        \n",
    "        #print(i, positive_transitions, ones, negative_transitions, zeroes)\n",
    "        transition_probs[i][0] += negative_transitions\n",
    "        transition_probs[i][1] += ones\n",
    "        transition_probs[i][2] += positive_transitions\n",
    "        transition_probs[i][3] += zeroes\n",
    "        transition_probs[i][5] += one_to_one\n",
    "        transition_probs[i][4] += zero_to_zero\n",
    "        \n",
    "        \n",
    "        \n",
    "    "
   ]
  },
  {
   "cell_type": "code",
   "execution_count": 102,
   "metadata": {},
   "outputs": [
    {
     "name": "stdout",
     "output_type": "stream",
     "text": [
      " AU17_c [8238, 197759, 8236, 333669, 325401, 189513]\n",
      " AU07_c [7126, 121126, 7134, 410302, 403142, 113986]\n",
      " AU14_c [5399, 131815, 5402, 399613, 394183, 126404]\n",
      " AU12_c [3636, 92489, 3635, 438939, 435270, 88847]\n",
      " AU20_c [6387, 168733, 6395, 362695, 356276, 162330]\n",
      "leftHandTouching [1398, 5921, 1400, 525507, 524069, 4521]\n",
      "rightHandTouching [303, 719, 304, 530709, 530366, 415]\n",
      "{   ' AU07_c': [   0.05883129963839308,\n",
      "                   0.017387192848194743,\n",
      "                   0.9825494391935696,\n",
      "                   0.9410531182405099],\n",
      "    ' AU12_c': [   0.03931278314177902,\n",
      "                   0.00828133294147934,\n",
      "                   0.9916412075482015,\n",
      "                   0.9606223442787791],\n",
      "    ' AU14_c': [   0.040958919698061674,\n",
      "                   0.013518078741182094,\n",
      "                   0.9864118534682305,\n",
      "                   0.9589500436217426],\n",
      "    ' AU17_c': [   0.041656764041080305,\n",
      "                   0.024683144073917564,\n",
      "                   0.9752209525008316,\n",
      "                   0.9583027826799286],\n",
      "    ' AU20_c': [   0.03785270219814737,\n",
      "                   0.017631894567060477,\n",
      "                   0.9823019341319842,\n",
      "                   0.9620524734343608],\n",
      "    'leftHandTouching': [   0.2361087654112481,\n",
      "                            0.002664093913116286,\n",
      "                            0.9972635949663848,\n",
      "                            0.7635534538084783],\n",
      "    'rightHandTouching': [   0.42141863699582754,\n",
      "                             0.0005728186256498383,\n",
      "                             0.999353694774349,\n",
      "                             0.5771905424200278]}\n"
     ]
    }
   ],
   "source": [
    "probabilities = {}\n",
    "\n",
    "for i in transition_probs:\n",
    "    t = transition_probs[i]\n",
    "    print(i, t)\n",
    "    probabilities[i] = [ t[0]/t[1], t[2]/t[3] , t[4]/t[3], t[5]/t[1] ]\n",
    "    \n",
    "pp.pprint(probabilities)"
   ]
  },
  {
   "cell_type": "code",
   "execution_count": 105,
   "metadata": {},
   "outputs": [
    {
     "name": "stdout",
     "output_type": "stream",
     "text": [
      "[[0.97522095 0.02468314]\n",
      " [0.04165676 0.95830278]]\n",
      "[[0.98254944 0.01738719]\n",
      " [0.0588313  0.94105312]]\n",
      "[[0.98641185 0.01351808]\n",
      " [0.04095892 0.95895004]]\n",
      "[[0.99164121 0.00828133]\n",
      " [0.03931278 0.96062234]]\n",
      "[[0.98230193 0.01763189]\n",
      " [0.0378527  0.96205247]]\n",
      "[[0.99726359 0.00266409]\n",
      " [0.23610877 0.76355345]]\n",
      "[[9.99353695e-01 5.72818626e-04]\n",
      " [4.21418637e-01 5.77190542e-01]]\n"
     ]
    }
   ],
   "source": [
    "# now we make the transition matrix\n",
    "\n",
    "# Define the states\n",
    "states = [0, 1]\n",
    "matrices = { key: np.zeros((len(states), len(states))) for key in transition_cols }\n",
    "\n",
    "## Initialize the transition matrix with zeros\n",
    "#transition_matrix = np.zeros((len(states), len(states)))\n",
    "#print(matrices)\n",
    "\n",
    "for m in matrices:\n",
    "    transition_matrix = matrices[m]\n",
    "    # Set the transition probabilities\n",
    "    transition_matrix[0, 0] = probabilities[m][2] # 0 to 0\n",
    "    transition_matrix[0, 1] = probabilities[m][1] # 0 to 1\n",
    "    transition_matrix[1, 0] = probabilities[m][0] # 1 to 0\n",
    "    transition_matrix[1, 1] = probabilities[m][3] # 1 to 1\n",
    "    \n",
    "\n",
    "    # Print the transition matrix\n",
    "    print(transition_matrix)\n"
   ]
  },
  {
   "cell_type": "code",
   "execution_count": 107,
   "metadata": {},
   "outputs": [
    {
     "name": "stdout",
     "output_type": "stream",
     "text": [
      "{   ' AU07_c': array([[0.98254944, 0.01738719],\n",
      "       [0.0588313 , 0.94105312]]),\n",
      "    ' AU12_c': array([[0.99164121, 0.00828133],\n",
      "       [0.03931278, 0.96062234]]),\n",
      "    ' AU14_c': array([[0.98641185, 0.01351808],\n",
      "       [0.04095892, 0.95895004]]),\n",
      "    ' AU17_c': array([[0.97522095, 0.02468314],\n",
      "       [0.04165676, 0.95830278]]),\n",
      "    ' AU20_c': array([[0.98230193, 0.01763189],\n",
      "       [0.0378527 , 0.96205247]]),\n",
      "    'leftHandTouching': array([[0.99726359, 0.00266409],\n",
      "       [0.23610877, 0.76355345]]),\n",
      "    'rightHandTouching': array([[9.99353695e-01, 5.72818626e-04],\n",
      "       [4.21418637e-01, 5.77190542e-01]])}\n"
     ]
    }
   ],
   "source": [
    "pp.pprint(matrices)"
   ]
  },
  {
   "cell_type": "code",
   "execution_count": null,
   "metadata": {},
   "outputs": [],
   "source": []
  }
 ],
 "metadata": {
  "kernelspec": {
   "display_name": "Python 3",
   "language": "python",
   "name": "python3"
  },
  "language_info": {
   "codemirror_mode": {
    "name": "ipython",
    "version": 3
   },
   "file_extension": ".py",
   "mimetype": "text/x-python",
   "name": "python",
   "nbconvert_exporter": "python",
   "pygments_lexer": "ipython3",
   "version": "3.10.6"
  },
  "orig_nbformat": 4,
  "vscode": {
   "interpreter": {
    "hash": "916dbcbb3f70747c44a77c7bcd40155683ae19c65e1c03b4aa3499c5328201f1"
   }
  }
 },
 "nbformat": 4,
 "nbformat_minor": 2
}
