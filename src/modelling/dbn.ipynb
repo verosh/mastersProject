{
 "cells": [
  {
   "attachments": {},
   "cell_type": "markdown",
   "metadata": {},
   "source": [
    "# Dynamic Bayesian Network\n",
    "\n",
    "We have now constructed the P(AU) and P(FT) as outlined in the theoretical model. Now we move on to computing the P(AU and FT) for each AU and each FT."
   ]
  },
  {
   "cell_type": "code",
   "execution_count": 6,
   "metadata": {},
   "outputs": [],
   "source": [
    "import os\n",
    "import pandas as pd\n",
    "import pprint \n",
    "import pickle\n",
    "import numpy as np\n",
    "pp = pprint.PrettyPrinter(indent=4)\n",
    "from sklearn.model_selection import train_test_split\n",
    "from pgmpy.models import BayesianNetwork, DynamicBayesianNetwork\n",
    "from pgmpy.inference import DBNInference\n",
    "from pgmpy.estimators import MaximumLikelihoodEstimator\n",
    "from pgmpy.base import DAG"
   ]
  },
  {
   "cell_type": "code",
   "execution_count": 2,
   "metadata": {},
   "outputs": [],
   "source": [
    "# load data\n",
    "\n",
    "with open(\"markov_probs.pickle\", 'rb') as f:\n",
    "    probabilities = pickle.load(f)\n",
    "    \n",
    "with open(\"onesec_dataframes.pickle\", 'rb') as f:\n",
    "    dataframes = pickle.load(f)\n",
    "    \n",
    "with open(\"conditional_probs.pickle\", 'rb') as f:\n",
    "    conditional_probabilities = pickle.load(f)\n",
    "    \n",
    "    "
   ]
  },
  {
   "cell_type": "code",
   "execution_count": 3,
   "metadata": {},
   "outputs": [
    {
     "name": "stdout",
     "output_type": "stream",
     "text": [
      "<class 'numpy.ndarray'>\n"
     ]
    }
   ],
   "source": [
    "print(type(dataframes['/home/roni/coding/mastersProject/src/csvOut/p_100/recording_3'].values))"
   ]
  },
  {
   "cell_type": "code",
   "execution_count": 13,
   "metadata": {},
   "outputs": [
    {
     "data": {
      "text/plain": [
       "OutEdgeView([(' AU17_c', 'LH AU17_c'), (' AU17_c', 'RH AU17_c'), (' AU07_c', 'LH AU07_c'), (' AU07_c', 'RH AU07_c'), (' AU14_c', 'LH AU14_c'), (' AU14_c', 'RH AU14_c'), (' AU12_c', 'LH AU12_c'), (' AU12_c', 'RH AU12_c'), (' AU20_c', 'LH AU20_c'), (' AU20_c', 'RH AU20_c'), ('leftHandTouching', 'LH AU17_c'), ('leftHandTouching', 'LH AU07_c'), ('leftHandTouching', 'LH AU14_c'), ('leftHandTouching', 'LH AU12_c'), ('leftHandTouching', 'LH AU20_c'), ('rightHandTouching', 'RH AU17_c'), ('rightHandTouching', 'RH AU07_c'), ('rightHandTouching', 'RH AU14_c'), ('rightHandTouching', 'RH AU12_c'), ('rightHandTouching', 'RH AU20_c'), ('LH AU17_c', 'GAD Score'), ('LH AU17_c', 'PHQ Score'), ('LH AU07_c', 'GAD Score'), ('LH AU07_c', 'PHQ Score'), ('LH AU14_c', 'GAD Score'), ('LH AU14_c', 'PHQ Score'), ('LH AU12_c', 'GAD Score'), ('LH AU12_c', 'PHQ Score'), ('LH AU20_c', 'GAD Score'), ('LH AU20_c', 'PHQ Score'), ('RH AU17_c', 'GAD Score'), ('RH AU17_c', 'PHQ Score'), ('RH AU07_c', 'GAD Score'), ('RH AU07_c', 'PHQ Score'), ('RH AU14_c', 'GAD Score'), ('RH AU14_c', 'PHQ Score'), ('RH AU12_c', 'GAD Score'), ('RH AU12_c', 'PHQ Score'), ('RH AU20_c', 'GAD Score'), ('RH AU20_c', 'PHQ Score')])"
      ]
     },
     "execution_count": 13,
     "metadata": {},
     "output_type": "execute_result"
    }
   ],
   "source": [
    "G = DAG()\n",
    "nodes = [' AU17_c', ' AU07_c',' AU14_c' , ' AU12_c',' AU20_c' , 'leftHandTouching', 'rightHandTouching' ]\n",
    "cooc = [ 'LH AU17_c', 'LH AU07_c','LH AU14_c' , 'LH AU12_c','LH AU20_c' , 'RH AU17_c', 'RH AU07_c','RH AU14_c' , 'RH AU12_c','RH AU20_c' ]\n",
    "res = ['GAD Score','PHQ Score']\n",
    "\n",
    "G.add_nodes_from(nodes)\n",
    "G.add_nodes_from(cooc)\n",
    "\n",
    "for i in cooc:\n",
    "    for j in nodes:\n",
    "        if (\"LH\"+j == i):\n",
    "            G.add_edge( u=j, v=i)\n",
    "        elif (\"RH\"+j == i):\n",
    "            G.add_edge( u=j, v=i)\n",
    "        if(j == 'leftHandTouching' and i[0:2]=='LH'):\n",
    "            G.add_edge( u=j, v=i)\n",
    "        elif(j == 'rightHandTouching' and i[0:2]=='RH'):\n",
    "            G.add_edge( u=j, v=i)\n",
    "    G.add_edge( u=i, v=res[0])\n",
    "    G.add_edge( u=i, v=res[1])\n",
    "\n",
    "G.edges()"
   ]
  },
  {
   "cell_type": "code",
   "execution_count": 12,
   "metadata": {},
   "outputs": [
    {
     "ename": "ValueError",
     "evalue": "Maximum Likelihood Estimator works only for models with all observed variables. Found latent variables: set().",
     "output_type": "error",
     "traceback": [
      "\u001b[0;31m---------------------------------------------------------------------------\u001b[0m",
      "\u001b[0;31mValueError\u001b[0m                                Traceback (most recent call last)",
      "Cell \u001b[0;32mIn[12], line 10\u001b[0m\n\u001b[1;32m      6\u001b[0m temp \u001b[39m=\u001b[39m BayesianNetwork(G)    \n\u001b[1;32m      8\u001b[0m \u001b[39m#infer = DBNInference(temp)\u001b[39;00m\n\u001b[1;32m      9\u001b[0m \u001b[39m#estimator = MaximumLikelihoodEstimator(model, temp)\u001b[39;00m\n\u001b[0;32m---> 10\u001b[0m est \u001b[39m=\u001b[39m MaximumLikelihoodEstimator(temp,df)\n\u001b[1;32m     11\u001b[0m \u001b[39m#temp.fit(probabilities[video_name], estimator)#, inference_algorithm=infer)\u001b[39;00m\n\u001b[1;32m     12\u001b[0m temp\u001b[39m.\u001b[39mfit(df,est)\n",
      "File \u001b[0;32m~/.local/lib/python3.10/site-packages/pgmpy/estimators/MLE.py:53\u001b[0m, in \u001b[0;36mMaximumLikelihoodEstimator.__init__\u001b[0;34m(self, model, data, **kwargs)\u001b[0m\n\u001b[1;32m     49\u001b[0m     \u001b[39mraise\u001b[39;00m \u001b[39mNotImplementedError\u001b[39;00m(\n\u001b[1;32m     50\u001b[0m         \u001b[39m\"\u001b[39m\u001b[39mMaximum Likelihood Estimate is only implemented for BayesianNetwork\u001b[39m\u001b[39m\"\u001b[39m\n\u001b[1;32m     51\u001b[0m     )\n\u001b[1;32m     52\u001b[0m \u001b[39melif\u001b[39;00m \u001b[39mset\u001b[39m(model\u001b[39m.\u001b[39mnodes()) \u001b[39m>\u001b[39m \u001b[39mset\u001b[39m(data\u001b[39m.\u001b[39mcolumns):\n\u001b[0;32m---> 53\u001b[0m     \u001b[39mraise\u001b[39;00m \u001b[39mValueError\u001b[39;00m(\n\u001b[1;32m     54\u001b[0m         \u001b[39mf\u001b[39m\u001b[39m\"\u001b[39m\u001b[39mMaximum Likelihood Estimator works only for models with all observed variables. Found latent variables: \u001b[39m\u001b[39m{\u001b[39;00mmodel\u001b[39m.\u001b[39mlatents\u001b[39m}\u001b[39;00m\u001b[39m.\u001b[39m\u001b[39m\"\u001b[39m\n\u001b[1;32m     55\u001b[0m     )\n\u001b[1;32m     57\u001b[0m \u001b[39msuper\u001b[39m(MaximumLikelihoodEstimator, \u001b[39mself\u001b[39m)\u001b[39m.\u001b[39m\u001b[39m__init__\u001b[39m(model, data, \u001b[39m*\u001b[39m\u001b[39m*\u001b[39mkwargs)\n",
      "\u001b[0;31mValueError\u001b[0m: Maximum Likelihood Estimator works only for models with all observed variables. Found latent variables: set()."
     ]
    }
   ],
   "source": [
    "model = DynamicBayesianNetwork()\n",
    "nodes = [' AU17_c', ' AU07_c',' AU14_c' , ' AU12_c',' AU20_c' , 'leftHandTouching', 'rightHandTouching' ]\n",
    "n = [ 'LH AU17_c', 'LH AU07_c','LH AU14_c' , 'LH AU12_c','LH AU20_c' , 'RH AU17_c', 'RH AU07_c','RH AU14_c' , 'RH AU12_c','RH AU20_c' ]\n",
    "\n",
    "for video_name, df in dataframes.items():\n",
    "    temp = BayesianNetwork(G)    \n",
    "    est = MaximumLikelihoodEstimator(temp,df)\n",
    "    temp.fit(df,est)\n",
    "    \n",
    "    #infer = DBNInference(temp)\n",
    "    #estimator = MaximumLikelihoodEstimator(model, temp)\n",
    "    \n",
    "    #temp.fit(probabilities[video_name], estimator)#, inference_algorithm=infer)\n",
    "    \n",
    "    #for node_name in nodes:\n",
    "    #    model.add_node(node_name, temp.cpd(node_name))\n",
    "    \n",
    "    #if model.cardinality is None:\n",
    "    #    model.cardinality = temp.cardinality\n",
    "    #else:\n",
    "    #    model.cardinality = np.maximum(model.cardinality, temp.cardinality)\n",
    "    \n",
    "    #model.add_transition(model.previous_timestep_nodes, nodes, transition_type='sequential')\n",
    "    #model.previous_timestep_nodes = nodes\n",
    "    \n",
    "    \n",
    "    \n",
    "    #model.add_node(df, temp)\n",
    "    \n",
    "    #add temp to model\n",
    "\n"
   ]
  },
  {
   "cell_type": "code",
   "execution_count": null,
   "metadata": {},
   "outputs": [],
   "source": [
    "# Set the first nodes as start nodes\n",
    "model.add_transition(model.start_nodes, model.previous_timestep_nodes, transition_type='sequential')\n",
    "    \n",
    "# Add end nodes and set their transitions\n",
    "end_nodes = []\n",
    "for node_name in nodes:\n",
    "    end_node_name = f\"{node_name}_end\"\n",
    "    end_nodes.append(end_node_name)\n",
    "    model.add_node(end_node_name)\n",
    "    model.add_transition([node_name], end_node_name, transition_type='static')\n",
    "model.add_transition(model.previous_timestep_nodes, end_nodes, transition_type='sequential')\n",
    "\n",
    "model.bake()"
   ]
  }
 ],
 "metadata": {
  "kernelspec": {
   "display_name": "Python 3",
   "language": "python",
   "name": "python3"
  },
  "language_info": {
   "codemirror_mode": {
    "name": "ipython",
    "version": 3
   },
   "file_extension": ".py",
   "mimetype": "text/x-python",
   "name": "python",
   "nbconvert_exporter": "python",
   "pygments_lexer": "ipython3",
   "version": "3.10.6"
  },
  "orig_nbformat": 4
 },
 "nbformat": 4,
 "nbformat_minor": 2
}
